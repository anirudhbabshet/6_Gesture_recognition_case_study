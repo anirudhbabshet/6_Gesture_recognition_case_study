{
 "cells": [
  {
   "cell_type": "markdown",
   "metadata": {},
   "source": [
    "# Gesture Recognition\n",
    "In this group project, you are going to build a 3D Conv model that will be able to predict the 5 gestures correctly. Please import the following libraries to get started."
   ]
  },
  {
   "cell_type": "code",
   "execution_count": 1,
   "metadata": {},
   "outputs": [],
   "source": [
    "import numpy as np\n",
    "import os\n",
    "from scipy.misc import imread, imresize\n",
    "import datetime\n",
    "import os\n",
    "import cv2"
   ]
  },
  {
   "cell_type": "markdown",
   "metadata": {},
   "source": [
    "We set the random seed so that the results don't vary drastically."
   ]
  },
  {
   "cell_type": "code",
   "execution_count": 2,
   "metadata": {},
   "outputs": [
    {
     "name": "stderr",
     "output_type": "stream",
     "text": [
      "Using TensorFlow backend.\n"
     ]
    }
   ],
   "source": [
    "np.random.seed(30)\n",
    "import random as rn\n",
    "rn.seed(30)\n",
    "from keras import backend as K\n",
    "import tensorflow as tf\n",
    "tf.set_random_seed(30)"
   ]
  },
  {
   "cell_type": "markdown",
   "metadata": {},
   "source": [
    "In this block, you read the folder names for training and validation. You also set the `batch_size` here. Note that you set the batch size in such a way that you are able to use the GPU in full capacity. You keep increasing the batch size until the machine throws an error."
   ]
  },
  {
   "cell_type": "code",
   "execution_count": 3,
   "metadata": {},
   "outputs": [],
   "source": [
    "train_doc = np.random.permutation(open('train.csv').readlines())\n",
    "val_doc = np.random.permutation(open('val.csv').readlines())\n",
    "batch_size = 10 #experiment with the batch size"
   ]
  },
  {
   "cell_type": "code",
   "execution_count": 4,
   "metadata": {},
   "outputs": [
    {
     "data": {
      "text/plain": [
       "663"
      ]
     },
     "execution_count": 4,
     "metadata": {},
     "output_type": "execute_result"
    }
   ],
   "source": [
    "len(train_doc)"
   ]
  },
  {
   "cell_type": "code",
   "execution_count": 5,
   "metadata": {},
   "outputs": [
    {
     "data": {
      "text/plain": [
       "100"
      ]
     },
     "execution_count": 5,
     "metadata": {},
     "output_type": "execute_result"
    }
   ],
   "source": [
    "len(val_doc)"
   ]
  },
  {
   "cell_type": "markdown",
   "metadata": {},
   "source": [
    "## Preprocessing"
   ]
  },
  {
   "cell_type": "code",
   "execution_count": 6,
   "metadata": {},
   "outputs": [],
   "source": [
    "def normalize_image1(data):\n",
    "    return data/127.5-1\n",
    "\n",
    "def normalize_image2(data):\n",
    "    return data/255\n",
    "\n",
    "def normalize_image3(x):\n",
    "    return (x - x.min()) / (x.max() - x.min())\n",
    "\n",
    "# Helper function to generate a random affine transform on the iamge\n",
    "def get_random_affine():\n",
    "    dx, dy = np.random.randint(-1.7, 1.8, 2)\n",
    "    M = np.float32([[1, 0, dx], [0, 1, dy]])\n",
    "    return M\n",
    "\n",
    "def add_gaussian_noise(image):\n",
    "    row,col,ch= image.shape\n",
    "    mean = 0\n",
    "    #var = 0.1\n",
    "    #sigma = var**0.5\n",
    "    gauss = np.random.normal(mean,1,(row,col,ch))\n",
    "    gauss = gauss.reshape(row,col,ch)\n",
    "    noisy = image + gauss\n",
    "    return noisy"
   ]
  },
  {
   "cell_type": "markdown",
   "metadata": {},
   "source": [
    "## Generator\n",
    "This is one of the most important part of the code. The overall structure of the generator has been given. In the generator, you are going to preprocess the images as you have images of 2 different dimensions as well as create a batch of video frames. You have to experiment with `img_idx`, `y`,`z` and normalization such that you get high accuracy."
   ]
  },
  {
   "cell_type": "code",
   "execution_count": 7,
   "metadata": {},
   "outputs": [],
   "source": [
    "def generator(source_path, folder_list, batch_size, isValidation=False):\n",
    "    \n",
    "    x = 30 # number of frames\n",
    "    y = 120 # image width\n",
    "    z = 120 # image height\n",
    "    \n",
    "    print( 'Source path = ', source_path, '; batch size =', batch_size)\n",
    "    img_idx = [x for x in range(0,x)] #create a list of image numbers you want to use for a particular video\n",
    "    while True:\n",
    "        t = np.random.permutation(folder_list)\n",
    "        num_batches = len(folder_list)//batch_size # calculate the number of batches\n",
    "        for batch in range(num_batches): # we iterate over the number of batches\n",
    "            \n",
    "            batch_data = np.zeros((batch_size,x,y,z,3)) # x is the number of images you use for each video, (y,z) is the final size of the input images and 3 is the number of channels RGB\n",
    "            batch_labels = np.zeros((batch_size,5)) # batch_labels is the one hot representation of the output\n",
    "            \n",
    "            # We will also build a agumented batch data\n",
    "            batch_data_aug = np.zeros((batch_size,x,y,z,3))\n",
    "            batch_labels_aug = np.zeros((batch_size,5))\n",
    "            \n",
    "            #Horizontal flip\n",
    "            batch_data_flip = np.zeros((batch_size,x,y,z,3))\n",
    "            batch_labels_flip = np.zeros((batch_size,5))\n",
    "            \n",
    "            #Gaussian noise\n",
    "            batch_data_noise = np.zeros((batch_size,x,y,z,3))\n",
    "            batch_labels_noise = np.zeros((batch_size,5))\n",
    "            \n",
    "            for folder in range(batch_size): # iterate over the batch_size\n",
    "                imgs = os.listdir(source_path+'/'+ t[folder + (batch*batch_size)].split(';')[0]) # read all the images in the folder\n",
    "                M = get_random_affine()\n",
    "                for idx,item in enumerate(img_idx): #  Iterate iver the frames/images of a folder to read them in\n",
    "                    #image = imread(source_path+'/'+ t[folder + (batch*batch_size)].strip().split(';')[0]+'/'+imgs[item]).astype(np.float32)\n",
    "                    image = cv2.imread(source_path+'/'+ t[folder + (batch*batch_size)].strip().split(';')[0]+'/'+imgs[item], cv2.IMREAD_COLOR)\n",
    "                    image = cv2.cvtColor(image, cv2.COLOR_BGR2RGB)\n",
    "\n",
    "                    #crop the images and resize them. Note that the images are of 2 different shape \n",
    "                    #and the conv3D will throw error if the inputs in a batch have different shapes\n",
    "                   \n",
    "                    # Cropping non symmetric frames\n",
    "                    if image.shape[0] != image.shape[1]:\n",
    "                        image=image[0:120,20:140]\n",
    "                    \n",
    "                    resized = cv2.resize(image, (y,z), interpolation = cv2.INTER_AREA)\n",
    "                    normalized = normalize_image3(resized)\n",
    "                    batch_data[folder,idx] = normalized\n",
    "                    \n",
    "                    #Affine transformation\n",
    "                    batch_data_aug[folder,idx] = cv2.warpAffine(normalized, M, (normalized.shape[0], normalized.shape[1]))\n",
    "                    \n",
    "                    # Data with horizontal flip\n",
    "                    batch_data_flip[folder,idx]= np.flip(resized,1)\n",
    "                    \n",
    "                    #Add gaussian noise\n",
    "                    batch_data_noise[folder,idx]=add_gaussian_noise(resized)\n",
    "                    \n",
    "                batch_labels[folder, int(t[folder + (batch*batch_size)].strip().split(';')[2])] = 1\n",
    "                batch_labels_aug[folder, int(t[folder + (batch*batch_size)].strip().split(';')[2])] = 1\n",
    "                batch_labels_noise[folder, int(t[folder + (batch*batch_size)].strip().split(';')[2])] = 1\n",
    "                    \n",
    "                # Labeling data with horizobtal flip, right swipe becomes left swipe and viceversa\n",
    "                if int(t[folder + (batch*batch_size)].strip().split(';')[2])==0:\n",
    "                    batch_labels_flip[folder, 1] = 1\n",
    "                elif int(t[folder + (batch*batch_size)].strip().split(';')[2])==1:\n",
    "                    batch_labels_flip[folder, 0] = 1\n",
    "                    \n",
    "                else:\n",
    "                    batch_labels_flip[folder, int(t[folder + (batch*batch_size)].strip().split(';')[2])] = 1\n",
    "                    \n",
    "            \n",
    "            batch_data_final = np.append(batch_data, batch_data_aug, axis = 0)\n",
    "            batch_data_final = np.append(batch_data_final, batch_data_flip, axis = 0)\n",
    "            batch_data_final = np.append(batch_data_final, batch_data_noise, axis = 0)\n",
    "            \n",
    "            batch_labels_final = np.append(batch_labels, batch_labels_aug, axis = 0)\n",
    "            batch_labels_final = np.append(batch_labels_final, batch_labels_flip, axis = 0)\n",
    "            batch_labels_final = np.append(batch_labels_final, batch_labels_noise, axis = 0)\n",
    "            \n",
    "            if isValidation:\n",
    "                batch_data_final=batch_data\n",
    "                batch_labels_final= batch_labels\n",
    "\n",
    "            yield batch_data, batch_labels #you yield the batch_data and the batch_labels, remember what does yield do\n",
    "\n",
    "        \n",
    "        # write the code for the remaining data points which are left after full batches\n",
    "        if (len(folder_list) != batch_size*num_batches):\n",
    "            print(\"Batch: \",num_batches+1,\"Index:\", batch_size)\n",
    "            \n",
    "            batch_size = len(folder_list) - (batch_size*num_batches)\n",
    "            \n",
    "            batch_data = np.zeros((batch_size,x,y,z,3)) # x is the number of images you use for each video, (y,z) is the final size of the input images and 3 is the number of channels RGB\n",
    "            batch_labels = np.zeros((batch_size,5)) # batch_labels is the one hot representation of the output\n",
    "            \n",
    "            #Agumented data\n",
    "            batch_data_aug = np.zeros((batch_size,x,y,z,3))\n",
    "            batch_labels_aug = np.zeros((batch_size,5))\n",
    "            \n",
    "            #Horizontal flip\n",
    "            batch_data_flip = np.zeros((batch_size,x,y,z,3))\n",
    "            batch_labels_flip = np.zeros((batch_size,5))\n",
    "            \n",
    "            #Gaussian noise\n",
    "            batch_data_noise = np.zeros((batch_size,x,y,z,3))\n",
    "            batch_labels_noise = np.zeros((batch_size,5))\n",
    "            \n",
    "            for folder in range(batch_size): # iterate over the batch_size\n",
    "                imgs = os.listdir(source_path+'/'+ t[folder + (batch*batch_size)].split(';')[0]) # read all the images in the folder\n",
    "                for idx,item in enumerate(img_idx): #  Iterate iver the frames/images of a folder to read them in\n",
    "                    #image = imread(source_path+'/'+ t[folder + (batch*batch_size)].strip().split(';')[0]+'/'+imgs[item]).astype(np.float32)\n",
    "                    image = cv2.imread(source_path+'/'+ t[folder + (batch*batch_size)].strip().split(';')[0]+'/'+imgs[item], cv2.IMREAD_COLOR)\n",
    "                    image = cv2.cvtColor(image, cv2.COLOR_BGR2RGB)\n",
    "                    \n",
    "                    #crop the images and resize them. Note that the images are of 2 different shape \n",
    "                    #and the conv3D will throw error if the inputs in a batch have different shapes\n",
    "                    \n",
    "                    resized = cv2.resize(image, (y,z), interpolation = cv2.INTER_AREA)\n",
    "                    normalized = normalize_image3(resized)\n",
    "                    batch_data[folder,idx] = normalized\n",
    "                    \n",
    "                    #Affine transformation\n",
    "                    batch_data_aug[folder,idx] = cv2.warpAffine(normalized, M, (normalized.shape[0], normalized.shape[1]))\n",
    "                    \n",
    "                    # Data with horizontal flip\n",
    "                    batch_data_flip[folder,idx]= np.flip(resized,1)\n",
    "                    \n",
    "                    #Add gaussian noise\n",
    "                    batch_data_noise[folder,idx]=add_gaussian_noise(resized)\n",
    "                    \n",
    "                    batch_labels[folder, int(t[folder + (batch*batch_size)].strip().split(';')[2])] = 1\n",
    "                    batch_labels_aug[folder, int(t[folder + (batch*batch_size)].strip().split(';')[2])] = 1\n",
    "                    batch_labels_noise[folder, int(t[folder + (batch*batch_size)].strip().split(';')[2])] = 1\n",
    "                    \n",
    "                    # Labeling data with horizobtal flip, right swipe becomes left swipe and viceversa\n",
    "                    if int(t[folder + (batch*batch_size)].strip().split(';')[2])==0:\n",
    "                        batch_labels_flip[folder, 1] = 1\n",
    "                    elif int(t[folder + (batch*batch_size)].strip().split(';')[2])==1:\n",
    "                        batch_labels_flip[folder, 0] = 1\n",
    "                    \n",
    "                    else:\n",
    "                        batch_labels_flip[folder, int(t[folder + (batch*batch_size)].strip().split(';')[2])] = 1\n",
    "                    \n",
    "                    \n",
    "            batch_data_final = np.append(batch_data, batch_data_aug, axis = 0)\n",
    "            batch_data_final = np.append(batch_data_final, batch_data_flip, axis = 0)\n",
    "            batch_data_final = np.append(batch_data_final, batch_data_noise, axis = 0)\n",
    "            \n",
    "            batch_labels_final = np.append(batch_labels, batch_labels_aug, axis = 0)\n",
    "            batch_labels_final = np.append(batch_labels_final, batch_labels_flip, axis = 0)\n",
    "            batch_labels_final = np.append(batch_labels_final, batch_labels_noise, axis = 0)\n",
    "            \n",
    "            if isValidation:\n",
    "                batch_data_final=batch_data\n",
    "                batch_labels_final= batch_labels\n",
    "                \n",
    "            yield batch_data, batch_labels"
   ]
  },
  {
   "cell_type": "markdown",
   "metadata": {},
   "source": [
    "Note here that a video is represented above in the generator as (number of images, height, width, number of channels). Take this into consideration while creating the model architecture."
   ]
  },
  {
   "cell_type": "code",
   "execution_count": 8,
   "metadata": {},
   "outputs": [
    {
     "name": "stdout",
     "output_type": "stream",
     "text": [
      "# training sequences = 663\n",
      "# validation sequences = 100\n",
      "# epochs = 10\n"
     ]
    }
   ],
   "source": [
    "curr_dt_time = datetime.datetime.now()\n",
    "train_path = 'train'\n",
    "val_path = 'val'\n",
    "num_train_sequences = len(train_doc)\n",
    "print('# training sequences =', num_train_sequences)\n",
    "num_val_sequences = len(val_doc)\n",
    "print('# validation sequences =', num_val_sequences)\n",
    "num_epochs = 10 # choose the number of epochs\n",
    "print ('# epochs =', num_epochs)"
   ]
  },
  {
   "cell_type": "markdown",
   "metadata": {},
   "source": [
    "## Model\n",
    "Here you make the model using different functionalities that Keras provides. Remember to use `Conv3D` and `MaxPooling3D` and not `Conv2D` and `Maxpooling2D` for a 3D convolution model. You would want to use `TimeDistributed` while building a Conv2D + RNN model. Also remember that the last layer is the softmax. Design the network in such a way that the model is able to give good accuracy on the least number of parameters so that it can fit in the memory of the webcam."
   ]
  },
  {
   "cell_type": "code",
   "execution_count": 9,
   "metadata": {},
   "outputs": [],
   "source": [
    "nb_filters = [8,16,32,64]\n",
    "nb_dense = [256, 128, 5]\n",
    "input_shape = (30, 120, 120, 3)"
   ]
  },
  {
   "cell_type": "code",
   "execution_count": 10,
   "metadata": {},
   "outputs": [],
   "source": [
    "from keras.models import Sequential, Model\n",
    "from keras.layers import Dense, GRU, Flatten, TimeDistributed, Flatten, BatchNormalization, Activation, Dropout\n",
    "from keras.layers.convolutional import Conv3D, MaxPooling3D\n",
    "from keras.callbacks import ModelCheckpoint, ReduceLROnPlateau\n",
    "from keras import optimizers\n",
    "\n",
    "\n",
    "#write your model here\n",
    "model = Sequential()\n",
    "\n",
    "model.add(Conv3D(nb_filters[0],kernel_size=(3,3,3),input_shape=input_shape,padding='same'))\n",
    "model.add(BatchNormalization())\n",
    "model.add(Activation('relu'))\n",
    "\n",
    "model.add(MaxPooling3D(pool_size=(2,2,2)))\n",
    "\n",
    "model.add(Conv3D(nb_filters[1],kernel_size=(3,3,3),padding='same'))\n",
    "model.add(BatchNormalization())\n",
    "model.add(Activation('relu'))\n",
    "\n",
    "model.add(MaxPooling3D(pool_size=(2,2,2)))\n",
    "\n",
    "model.add(Conv3D(nb_filters[2],kernel_size=(1,3,3),padding='same'))\n",
    "model.add(BatchNormalization())\n",
    "model.add(Activation('relu'))\n",
    "\n",
    "model.add(MaxPooling3D(pool_size=(2,2,2)))\n",
    "\n",
    "model.add(Conv3D(nb_filters[3],kernel_size=(1,3,3),padding='same'))\n",
    "model.add(BatchNormalization())\n",
    "model.add(Activation('relu'))\n",
    "\n",
    "model.add(MaxPooling3D(pool_size=(2,2,2)))\n",
    "\n",
    "#Flatten Layers\n",
    "model.add(Flatten())\n",
    "\n",
    "model.add(Dense(nb_dense[0], activation='relu'))\n",
    "model.add(Dropout(0.1))\n",
    "\n",
    "model.add(Dense(nb_dense[1], activation='relu'))\n",
    "model.add(Dropout(0.3))\n",
    "\n",
    "#softmax layer\n",
    "model.add(Dense(nb_dense[2], activation='softmax'))"
   ]
  },
  {
   "cell_type": "markdown",
   "metadata": {},
   "source": [
    "Now that you have written the model, the next step is to `compile` the model. When you print the `summary` of the model, you'll see the total number of parameters you have to train."
   ]
  },
  {
   "cell_type": "code",
   "execution_count": 11,
   "metadata": {
    "scrolled": false
   },
   "outputs": [
    {
     "name": "stdout",
     "output_type": "stream",
     "text": [
      "_________________________________________________________________\n",
      "Layer (type)                 Output Shape              Param #   \n",
      "=================================================================\n",
      "conv3d_1 (Conv3D)            (None, 30, 120, 120, 8)   656       \n",
      "_________________________________________________________________\n",
      "batch_normalization_1 (Batch (None, 30, 120, 120, 8)   32        \n",
      "_________________________________________________________________\n",
      "activation_1 (Activation)    (None, 30, 120, 120, 8)   0         \n",
      "_________________________________________________________________\n",
      "max_pooling3d_1 (MaxPooling3 (None, 15, 60, 60, 8)     0         \n",
      "_________________________________________________________________\n",
      "conv3d_2 (Conv3D)            (None, 15, 60, 60, 16)    3472      \n",
      "_________________________________________________________________\n",
      "batch_normalization_2 (Batch (None, 15, 60, 60, 16)    64        \n",
      "_________________________________________________________________\n",
      "activation_2 (Activation)    (None, 15, 60, 60, 16)    0         \n",
      "_________________________________________________________________\n",
      "max_pooling3d_2 (MaxPooling3 (None, 7, 30, 30, 16)     0         \n",
      "_________________________________________________________________\n",
      "conv3d_3 (Conv3D)            (None, 7, 30, 30, 32)     4640      \n",
      "_________________________________________________________________\n",
      "batch_normalization_3 (Batch (None, 7, 30, 30, 32)     128       \n",
      "_________________________________________________________________\n",
      "activation_3 (Activation)    (None, 7, 30, 30, 32)     0         \n",
      "_________________________________________________________________\n",
      "max_pooling3d_3 (MaxPooling3 (None, 3, 15, 15, 32)     0         \n",
      "_________________________________________________________________\n",
      "conv3d_4 (Conv3D)            (None, 3, 15, 15, 64)     18496     \n",
      "_________________________________________________________________\n",
      "batch_normalization_4 (Batch (None, 3, 15, 15, 64)     256       \n",
      "_________________________________________________________________\n",
      "activation_4 (Activation)    (None, 3, 15, 15, 64)     0         \n",
      "_________________________________________________________________\n",
      "max_pooling3d_4 (MaxPooling3 (None, 1, 7, 7, 64)       0         \n",
      "_________________________________________________________________\n",
      "flatten_1 (Flatten)          (None, 3136)              0         \n",
      "_________________________________________________________________\n",
      "dense_1 (Dense)              (None, 256)               803072    \n",
      "_________________________________________________________________\n",
      "dropout_1 (Dropout)          (None, 256)               0         \n",
      "_________________________________________________________________\n",
      "dense_2 (Dense)              (None, 128)               32896     \n",
      "_________________________________________________________________\n",
      "dropout_2 (Dropout)          (None, 128)               0         \n",
      "_________________________________________________________________\n",
      "dense_3 (Dense)              (None, 5)                 645       \n",
      "=================================================================\n",
      "Total params: 864,357\n",
      "Trainable params: 864,117\n",
      "Non-trainable params: 240\n",
      "_________________________________________________________________\n",
      "None\n"
     ]
    }
   ],
   "source": [
    "rate = 0.001\n",
    "optimiser = optimizers.Adam() #write your optimizer\n",
    "model.compile(optimizer=optimiser, loss='categorical_crossentropy', metrics=['categorical_accuracy'])\n",
    "print (model.summary())"
   ]
  },
  {
   "cell_type": "markdown",
   "metadata": {},
   "source": [
    "Let us create the `train_generator` and the `val_generator` which will be used in `.fit_generator`."
   ]
  },
  {
   "cell_type": "code",
   "execution_count": 12,
   "metadata": {},
   "outputs": [],
   "source": [
    "train_generator = generator(train_path, train_doc, batch_size)\n",
    "val_generator = generator(val_path, val_doc, batch_size, isValidation=True)"
   ]
  },
  {
   "cell_type": "code",
   "execution_count": 13,
   "metadata": {},
   "outputs": [],
   "source": [
    "model_name = 'model_init' + '_' + str(curr_dt_time).replace(' ','').replace(':','_') + '/'\n",
    "    \n",
    "if not os.path.exists(model_name):\n",
    "    os.mkdir(model_name)\n",
    "        \n",
    "filepath = model_name + 'model-{epoch:05d}-{loss:.5f}-{categorical_accuracy:.5f}-{val_loss:.5f}-{val_categorical_accuracy:.5f}.h5'\n",
    "\n",
    "checkpoint = ModelCheckpoint(filepath, monitor='val_loss', verbose=1, save_best_only=False, save_weights_only=False, mode='auto', period=1)\n",
    "\n",
    "LR = ReduceLROnPlateau(monitor='val_loss', factor=0.5, patience=2, cooldown=1, verbose=1) # write the REducelronplateau code here\n",
    "callbacks_list = [checkpoint, LR]"
   ]
  },
  {
   "cell_type": "markdown",
   "metadata": {},
   "source": [
    "The `steps_per_epoch` and `validation_steps` are used by `fit_generator` to decide the number of next() calls it need to make."
   ]
  },
  {
   "cell_type": "code",
   "execution_count": 14,
   "metadata": {},
   "outputs": [],
   "source": [
    "if (num_train_sequences%batch_size) == 0:\n",
    "    steps_per_epoch = int(num_train_sequences/batch_size)\n",
    "else:\n",
    "    steps_per_epoch = (num_train_sequences//batch_size) + 1\n",
    "\n",
    "if (num_val_sequences%batch_size) == 0:\n",
    "    validation_steps = int(num_val_sequences/batch_size)\n",
    "else:\n",
    "    validation_steps = (num_val_sequences//batch_size) + 1"
   ]
  },
  {
   "cell_type": "markdown",
   "metadata": {},
   "source": [
    "Let us now fit the model. This will start training the model and with the help of the checkpoints, you'll be able to save the model at the end of each epoch."
   ]
  },
  {
   "cell_type": "code",
   "execution_count": 15,
   "metadata": {
    "scrolled": false
   },
   "outputs": [
    {
     "name": "stdout",
     "output_type": "stream",
     "text": [
      "Source path =  val ; batch size = 10\n",
      "Source path =  train ; batch size = 10\n",
      "Epoch 1/20\n",
      "65/67 [============================>.] - ETA: 4s - loss: 1.9606 - categorical_accuracy: 0.3385Batch:  67 Index: 10\n",
      "67/67 [==============================] - 157s 2s/step - loss: 1.9448 - categorical_accuracy: 0.3393 - val_loss: 1.1975 - val_categorical_accuracy: 0.5200\n",
      "\n",
      "Epoch 00001: saving model to model_init_2019-12-2217_19_34.481537/model-00001-1.95347-0.33937-1.19748-0.52000.h5\n",
      "Epoch 2/20\n",
      "67/67 [==============================] - 45s 671ms/step - loss: 1.6517 - categorical_accuracy: 0.3433 - val_loss: 1.5973 - val_categorical_accuracy: 0.3600\n",
      "\n",
      "Epoch 00002: saving model to model_init_2019-12-2217_19_34.481537/model-00002-1.65173-0.34328-1.59729-0.36000.h5\n",
      "Epoch 3/20\n",
      "67/67 [==============================] - 46s 686ms/step - loss: 1.4515 - categorical_accuracy: 0.3831 - val_loss: 1.3566 - val_categorical_accuracy: 0.4300\n",
      "\n",
      "Epoch 00003: saving model to model_init_2019-12-2217_19_34.481537/model-00003-1.45152-0.38308-1.35657-0.43000.h5\n",
      "\n",
      "Epoch 00003: ReduceLROnPlateau reducing learning rate to 0.0005000000237487257.\n",
      "Epoch 4/20\n",
      "67/67 [==============================] - 46s 689ms/step - loss: 1.5409 - categorical_accuracy: 0.3284 - val_loss: 1.2572 - val_categorical_accuracy: 0.4500\n",
      "\n",
      "Epoch 00004: saving model to model_init_2019-12-2217_19_34.481537/model-00004-1.54085-0.32836-1.25722-0.45000.h5\n",
      "Epoch 5/20\n",
      "67/67 [==============================] - 46s 689ms/step - loss: 1.2745 - categorical_accuracy: 0.5025 - val_loss: 1.1856 - val_categorical_accuracy: 0.4900\n",
      "\n",
      "Epoch 00005: saving model to model_init_2019-12-2217_19_34.481537/model-00005-1.27446-0.50249-1.18559-0.49000.h5\n",
      "Epoch 6/20\n",
      "67/67 [==============================] - 47s 694ms/step - loss: 1.2289 - categorical_accuracy: 0.4826 - val_loss: 1.2892 - val_categorical_accuracy: 0.4300\n",
      "\n",
      "Epoch 00006: saving model to model_init_2019-12-2217_19_34.481537/model-00006-1.22890-0.48259-1.28919-0.43000.h5\n",
      "Epoch 7/20\n",
      "67/67 [==============================] - 46s 682ms/step - loss: 1.1226 - categorical_accuracy: 0.5224 - val_loss: 1.0278 - val_categorical_accuracy: 0.5700\n",
      "\n",
      "Epoch 00007: saving model to model_init_2019-12-2217_19_34.481537/model-00007-1.12261-0.52239-1.02778-0.57000.h5\n",
      "Epoch 8/20\n",
      "67/67 [==============================] - 46s 689ms/step - loss: 1.2385 - categorical_accuracy: 0.4876 - val_loss: 1.5727 - val_categorical_accuracy: 0.3700\n",
      "\n",
      "Epoch 00008: saving model to model_init_2019-12-2217_19_34.481537/model-00008-1.23854-0.48756-1.57271-0.37000.h5\n",
      "Epoch 9/20\n",
      "67/67 [==============================] - 46s 686ms/step - loss: 1.1050 - categorical_accuracy: 0.5871 - val_loss: 1.5782 - val_categorical_accuracy: 0.3500\n",
      "\n",
      "Epoch 00009: saving model to model_init_2019-12-2217_19_34.481537/model-00009-1.10498-0.58706-1.57820-0.35000.h5\n",
      "\n",
      "Epoch 00009: ReduceLROnPlateau reducing learning rate to 0.0002500000118743628.\n",
      "Epoch 10/20\n",
      "67/67 [==============================] - 47s 704ms/step - loss: 1.0997 - categorical_accuracy: 0.5373 - val_loss: 0.9756 - val_categorical_accuracy: 0.6200\n",
      "\n",
      "Epoch 00010: saving model to model_init_2019-12-2217_19_34.481537/model-00010-1.09969-0.53731-0.97556-0.62000.h5\n",
      "Epoch 11/20\n",
      "67/67 [==============================] - 45s 673ms/step - loss: 1.0454 - categorical_accuracy: 0.5473 - val_loss: 0.9289 - val_categorical_accuracy: 0.6700\n",
      "\n",
      "Epoch 00011: saving model to model_init_2019-12-2217_19_34.481537/model-00011-1.04543-0.54726-0.92889-0.67000.h5\n",
      "Epoch 12/20\n",
      "67/67 [==============================] - 47s 697ms/step - loss: 0.9674 - categorical_accuracy: 0.6169 - val_loss: 0.9912 - val_categorical_accuracy: 0.6000\n",
      "\n",
      "Epoch 00012: saving model to model_init_2019-12-2217_19_34.481537/model-00012-0.96735-0.61692-0.99123-0.60000.h5\n",
      "Epoch 13/20\n",
      "67/67 [==============================] - 46s 684ms/step - loss: 0.9576 - categorical_accuracy: 0.6119 - val_loss: 0.9191 - val_categorical_accuracy: 0.6200\n",
      "\n",
      "Epoch 00013: saving model to model_init_2019-12-2217_19_34.481537/model-00013-0.95756-0.61194-0.91911-0.62000.h5\n",
      "Epoch 14/20\n",
      "67/67 [==============================] - 45s 669ms/step - loss: 0.8773 - categorical_accuracy: 0.6667 - val_loss: 1.0007 - val_categorical_accuracy: 0.6400\n",
      "\n",
      "Epoch 00014: saving model to model_init_2019-12-2217_19_34.481537/model-00014-0.87729-0.66667-1.00073-0.64000.h5\n",
      "Epoch 15/20\n",
      "67/67 [==============================] - 45s 676ms/step - loss: 0.8869 - categorical_accuracy: 0.6070 - val_loss: 0.9200 - val_categorical_accuracy: 0.6700\n",
      "\n",
      "Epoch 00015: saving model to model_init_2019-12-2217_19_34.481537/model-00015-0.88692-0.60697-0.91998-0.67000.h5\n",
      "\n",
      "Epoch 00015: ReduceLROnPlateau reducing learning rate to 0.0001250000059371814.\n",
      "Epoch 16/20\n",
      "67/67 [==============================] - 45s 674ms/step - loss: 0.7513 - categorical_accuracy: 0.7114 - val_loss: 0.8170 - val_categorical_accuracy: 0.7200\n",
      "\n",
      "Epoch 00016: saving model to model_init_2019-12-2217_19_34.481537/model-00016-0.75132-0.71144-0.81699-0.72000.h5\n",
      "Epoch 17/20\n",
      "67/67 [==============================] - 46s 693ms/step - loss: 0.7602 - categorical_accuracy: 0.7114 - val_loss: 0.7609 - val_categorical_accuracy: 0.6900\n",
      "\n",
      "Epoch 00017: saving model to model_init_2019-12-2217_19_34.481537/model-00017-0.76020-0.71144-0.76090-0.69000.h5\n",
      "Epoch 18/20\n",
      "67/67 [==============================] - 46s 687ms/step - loss: 0.6540 - categorical_accuracy: 0.7811 - val_loss: 0.7428 - val_categorical_accuracy: 0.7000\n",
      "\n",
      "Epoch 00018: saving model to model_init_2019-12-2217_19_34.481537/model-00018-0.65402-0.78109-0.74284-0.70000.h5\n",
      "Epoch 19/20\n",
      "67/67 [==============================] - 46s 691ms/step - loss: 0.6145 - categorical_accuracy: 0.7761 - val_loss: 0.7820 - val_categorical_accuracy: 0.6700\n",
      "\n",
      "Epoch 00019: saving model to model_init_2019-12-2217_19_34.481537/model-00019-0.61452-0.77612-0.78202-0.67000.h5\n",
      "Epoch 20/20\n",
      "67/67 [==============================] - 45s 677ms/step - loss: 0.7223 - categorical_accuracy: 0.6915 - val_loss: 0.7559 - val_categorical_accuracy: 0.7000\n",
      "\n",
      "Epoch 00020: saving model to model_init_2019-12-2217_19_34.481537/model-00020-0.72229-0.69154-0.75589-0.70000.h5\n",
      "\n",
      "Epoch 00020: ReduceLROnPlateau reducing learning rate to 6.25000029685907e-05.\n"
     ]
    }
   ],
   "source": [
    "batch_size = 10\n",
    "num_epochs = 20\n",
    "history = model.fit_generator(train_generator, steps_per_epoch=steps_per_epoch, epochs=num_epochs, verbose=1, \n",
    "                    callbacks=callbacks_list, validation_data=val_generator, \n",
    "                    validation_steps=validation_steps, class_weight=None, workers=1, initial_epoch=0)"
   ]
  },
  {
   "cell_type": "code",
   "execution_count": 16,
   "metadata": {},
   "outputs": [
    {
     "name": "stdout",
     "output_type": "stream",
     "text": [
      "dict_keys(['val_loss', 'val_categorical_accuracy', 'loss', 'categorical_accuracy', 'lr'])\n"
     ]
    }
   ],
   "source": [
    "print(history.history.keys())"
   ]
  },
  {
   "cell_type": "code",
   "execution_count": 19,
   "metadata": {},
   "outputs": [
    {
     "data": {
      "image/png": "[encoded data removed]",
      "text/plain": [
       "<Figure size 432x288 with 1 Axes>"
      ]
     },
     "metadata": {},
     "output_type": "display_data"
    }
   ],
   "source": [
    "import matplotlib.pyplot as plt\n",
    "\n",
    "# Plot training & validation accuracy values\n",
    "plt.plot(history.history['categorical_accuracy'])\n",
    "plt.plot(history.history['val_categorical_accuracy'])\n",
    "plt.title('Model accuracy')\n",
    "plt.ylabel('Accuracy')\n",
    "plt.xlabel('Epoch')\n",
    "plt.legend(['Train', 'Val'], loc='upper left')\n",
    "plt.show()"
   ]
  },
  {
   "cell_type": "code",
   "execution_count": 18,
   "metadata": {},
   "outputs": [
    {
     "data": {
      "image/png": "[encoded data removed]",
      "text/plain": [
       "<Figure size 432x288 with 1 Axes>"
      ]
     },
     "metadata": {},
     "output_type": "display_data"
    }
   ],
   "source": [
    "# Plot training & validation loss values\n",
    "plt.plot(history.history['loss'])\n",
    "plt.plot(history.history['val_loss'])\n",
    "plt.title('Model loss')\n",
    "plt.ylabel('Loss')\n",
    "plt.xlabel('Epoch')\n",
    "plt.legend(['Train', 'Val'], loc='upper right')\n",
    "plt.show()"
   ]
  },
  {
   "cell_type": "code",
   "execution_count": null,
   "metadata": {},
   "outputs": [],
   "source": []
  }
 ],
 "metadata": {
  "kernelspec": {
   "display_name": "Python 3",
   "language": "python",
   "name": "python3"
  },
  "language_info": {
   "codemirror_mode": {
    "name": "ipython",
    "version": 3
   },
   "file_extension": ".py",
   "mimetype": "text/x-python",
   "name": "python",
   "nbconvert_exporter": "python",
   "pygments_lexer": "ipython3",
   "version": "3.7.1"
  }
 },
 "nbformat": 4,
 "nbformat_minor": 2
}
